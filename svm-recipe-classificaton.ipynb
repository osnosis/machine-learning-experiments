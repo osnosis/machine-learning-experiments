{
 "cells": [
  {
   "cell_type": "code",
   "execution_count": 1,
   "metadata": {
    "collapsed": true
   },
   "outputs": [],
   "source": [
    "import numpy as np\n",
    "import pandas as pd\n",
    "import scipy\n",
    "import matplotlib.pyplot as plt\n",
    "import seaborn as sns\n",
    "%matplotlib inline\n",
    "\n",
    "from sklearn.svm import SVR\n",
    "from sklearn.model_selection import cross_val_score\n",
    "from sklearn.svm import SVC\n",
    "\n",
    "from sklearn.svm import LinearSVC"
   ]
  },
  {
   "cell_type": "markdown",
   "metadata": {},
   "source": [
    "# Challenge: Can we use the ingredient and keyword list to predict the rating?<br>\n",
    "\n",
    "(For someone writing a cookbook this could be really useful information that could help them choose which recipes to include because they're more likely to be enjoyed and therefore make the book more likely to be successful.)"
   ]
  },
  {
   "cell_type": "markdown",
   "metadata": {},
   "source": [
    "# Intro\n",
    "\n",
    "Load data. <br>\n",
    "Preview data and columns."
   ]
  },
  {
   "cell_type": "code",
   "execution_count": 2,
   "metadata": {
    "collapsed": false
   },
   "outputs": [
    {
     "name": "stdout",
     "output_type": "stream",
     "text": [
      "(20052, 680)\n",
      "                                         title  rating  calories  protein  \\\n",
      "0              Lentil, Apple, and Turkey Wrap    2.500     426.0     30.0   \n",
      "1  Boudin Blanc Terrine with Red Onion Confit    4.375     403.0     18.0   \n",
      "2                Potato and Fennel Soup Hodge    3.750     165.0      6.0   \n",
      "3             Mahi-Mahi in Tomato Olive Sauce    5.000       NaN      NaN   \n",
      "4                    Spinach Noodle Casserole    3.125     547.0     20.0   \n",
      "\n",
      "    fat  sodium  #cakeweek  #wasteless  22-minute meals  3-ingredient recipes  \\\n",
      "0   7.0   559.0        0.0         0.0              0.0                   0.0   \n",
      "1  23.0  1439.0        0.0         0.0              0.0                   0.0   \n",
      "2   7.0   165.0        0.0         0.0              0.0                   0.0   \n",
      "3   NaN     NaN        0.0         0.0              0.0                   0.0   \n",
      "4  32.0   452.0        0.0         0.0              0.0                   0.0   \n",
      "\n",
      "    ...    yellow squash  yogurt  yonkers  yuca  zucchini  cookbooks  \\\n",
      "0   ...              0.0     0.0      0.0   0.0       0.0        0.0   \n",
      "1   ...              0.0     0.0      0.0   0.0       0.0        0.0   \n",
      "2   ...              0.0     0.0      0.0   0.0       0.0        0.0   \n",
      "3   ...              0.0     0.0      0.0   0.0       0.0        0.0   \n",
      "4   ...              0.0     0.0      0.0   0.0       0.0        0.0   \n",
      "\n",
      "   leftovers  snack  snack week  turkey  \n",
      "0        0.0    0.0         0.0     1.0  \n",
      "1        0.0    0.0         0.0     0.0  \n",
      "2        0.0    0.0         0.0     0.0  \n",
      "3        0.0    0.0         0.0     0.0  \n",
      "4        0.0    0.0         0.0     0.0  \n",
      "\n",
      "[5 rows x 680 columns]\n"
     ]
    }
   ],
   "source": [
    "raw_data = pd.read_csv('epi_r.csv')\n",
    "#print(list(raw_data.columns))\n",
    "print(raw_data.shape)\n",
    "print(raw_data.head())"
   ]
  },
  {
   "cell_type": "markdown",
   "metadata": {},
   "source": [
    "Looks like we have 20052 recipe entries and 680 features. Now, let's get a basic statistical and visual representation of the sample dataset."
   ]
  },
  {
   "cell_type": "code",
   "execution_count": 3,
   "metadata": {
    "collapsed": false
   },
   "outputs": [
    {
     "data": {
      "text/plain": [
       "count    20052.000000\n",
       "mean         3.714467\n",
       "std          1.340829\n",
       "min          0.000000\n",
       "25%          3.750000\n",
       "50%          4.375000\n",
       "75%          4.375000\n",
       "max          5.000000\n",
       "Name: rating, dtype: float64"
      ]
     },
     "execution_count": 3,
     "metadata": {},
     "output_type": "execute_result"
    }
   ],
   "source": [
    "raw_data.rating.describe()"
   ]
  },
  {
   "cell_type": "code",
   "execution_count": 4,
   "metadata": {
    "collapsed": false
   },
   "outputs": [
    {
     "data": {
      "image/png": "[encoded data removed]",
      "text/plain": [
       "<matplotlib.figure.Figure at 0x113e77b00>"
      ]
     },
     "metadata": {},
     "output_type": "display_data"
    }
   ],
   "source": [
    "raw_data.rating.hist(bins=20)\n",
    "plt.title('Histogram of Recipe Ratings')\n",
    "plt.show()"
   ]
  },
  {
   "cell_type": "markdown",
   "metadata": {},
   "source": [
    "\"There are just over 20,000 recipes with an average rating of 3.71. What is interesting is that the 25th percentile is actually above the mean. This means there is likely some kind of outlier population. This makes sense when we think about reviews. People are more likely to review recipes when they have strong feelings about them. Some bad recipes may have very few very low reviews.\""
   ]
  },
  {
   "cell_type": "markdown",
   "metadata": {},
   "source": [
    "Can we use nutritional information to help build our model?"
   ]
  },
  {
   "cell_type": "code",
   "execution_count": 5,
   "metadata": {
    "collapsed": false
   },
   "outputs": [
    {
     "data": {
      "text/plain": [
       "calories    4117\n",
       "protein     4162\n",
       "fat         4183\n",
       "sodium      4119\n",
       "dtype: int64"
      ]
     },
     "execution_count": 5,
     "metadata": {},
     "output_type": "execute_result"
    }
   ],
   "source": [
    "null_count = raw_data.isnull().sum()\n",
    "null_count[null_count>0]"
   ]
  },
  {
   "cell_type": "markdown",
   "metadata": {},
   "source": [
    "Nutrition information is not available for all goods. Out of ~20000 observations, there are only about 4000 for each nutritional categories. This seriously limits the scope of our data. Drop nutritional columns, for now."
   ]
  },
  {
   "cell_type": "markdown",
   "metadata": {},
   "source": [
    "Let's train a Support Vector Regressor."
   ]
  },
  {
   "cell_type": "code",
   "execution_count": 6,
   "metadata": {
    "collapsed": false
   },
   "outputs": [
    {
     "data": {
      "text/plain": [
       "SVR(C=1.0, cache_size=200, coef0=0.0, degree=3, epsilon=0.1, gamma='auto',\n",
       "  kernel='rbf', max_iter=-1, shrinking=True, tol=0.001, verbose=False)"
      ]
     },
     "execution_count": 6,
     "metadata": {},
     "output_type": "execute_result"
    }
   ],
   "source": [
    "svr = SVR()\n",
    "X = raw_data.drop(['rating', 'title', 'calories', 'protein', 'fat', 'sodium'], 1)\n",
    "Y = raw_data.rating\n",
    "svr.fit(X,Y)"
   ]
  },
  {
   "cell_type": "markdown",
   "metadata": {},
   "source": [
    "Now let's see what a scatter plot looks like, comparing actuals to predicted."
   ]
  },
  {
   "cell_type": "code",
   "execution_count": 7,
   "metadata": {
    "collapsed": false
   },
   "outputs": [
    {
     "data": {
      "text/plain": [
       "<matplotlib.collections.PathCollection at 0x10e362cf8>"
      ]
     },
     "execution_count": 7,
     "metadata": {},
     "output_type": "execute_result"
    },
    {
     "data": {
      "image/png": "[encoded data removed]",
      "text/plain": [
       "<matplotlib.figure.Figure at 0x113e77e80>"
      ]
     },
     "metadata": {},
     "output_type": "display_data"
    }
   ],
   "source": [
    "plt.scatter(Y, svr.predict(X))"
   ]
  },
  {
   "cell_type": "markdown",
   "metadata": {},
   "source": [
    "Because of the discontinous nature of our outcome variable, there's too much data for us to really see what's going on here and we end up with nebulous spreads of predictions. The classifier does at least seem to predict the 4/5 ratings at a higher spread than the rest, which is a good sign.<br>\n",
    "\n",
    "Now let's assess the score."
   ]
  },
  {
   "cell_type": "code",
   "execution_count": 8,
   "metadata": {
    "collapsed": false
   },
   "outputs": [
    {
     "data": {
      "text/plain": [
       "0.038565706512988962"
      ]
     },
     "execution_count": 8,
     "metadata": {},
     "output_type": "execute_result"
    }
   ],
   "source": [
    "svr.score(X, Y)"
   ]
  },
  {
   "cell_type": "code",
   "execution_count": 9,
   "metadata": {
    "collapsed": false
   },
   "outputs": [
    {
     "name": "stdout",
     "output_type": "stream",
     "text": [
      "[ 0.01818511  0.026411    0.03037705  0.01957949  0.02451197]\n",
      "0.0238129242667\n"
     ]
    }
   ],
   "source": [
    "svr_cv = cross_val_score(svr, X, Y, cv=5)\n",
    "print(svr_cv)\n",
    "print(svr_cv.mean())"
   ]
  },
  {
   "cell_type": "markdown",
   "metadata": {},
   "source": [
    "Very poor accuracy, and slightly overfitting.\n",
    "\n",
    "# Challenge\n",
    "\n",
    "Transform this regression problem into a binary classifier and clean up the feature set. You can choose whether or not to include nutritional information, but try to cut your feature set down to the 30 most valuable features. <br>"
   ]
  },
  {
   "cell_type": "markdown",
   "metadata": {},
   "source": [
    "First let's start by converting the continuous output to binary: <br>\n",
    "Create a new column that applies a function to decide whether the rating is good or bad. This converts it from continuous to binary output.<br>\n",
    "Define good as 4 or 5. <br>\n",
    "Count how many are good/bad."
   ]
  },
  {
   "cell_type": "code",
   "execution_count": 10,
   "metadata": {
    "collapsed": false
   },
   "outputs": [
    {
     "name": "stdout",
     "output_type": "stream",
     "text": [
      "                                         title  rating  calories  protein  \\\n",
      "0              Lentil, Apple, and Turkey Wrap    2.500     426.0     30.0   \n",
      "1  Boudin Blanc Terrine with Red Onion Confit    4.375     403.0     18.0   \n",
      "2                Potato and Fennel Soup Hodge    3.750     165.0      6.0   \n",
      "3             Mahi-Mahi in Tomato Olive Sauce    5.000       NaN      NaN   \n",
      "4                    Spinach Noodle Casserole    3.125     547.0     20.0   \n",
      "\n",
      "    fat  sodium  #cakeweek  #wasteless  22-minute meals  3-ingredient recipes  \\\n",
      "0   7.0   559.0        0.0         0.0              0.0                   0.0   \n",
      "1  23.0  1439.0        0.0         0.0              0.0                   0.0   \n",
      "2   7.0   165.0        0.0         0.0              0.0                   0.0   \n",
      "3   NaN     NaN        0.0         0.0              0.0                   0.0   \n",
      "4  32.0   452.0        0.0         0.0              0.0                   0.0   \n",
      "\n",
      "     ...     yogurt  yonkers  yuca  zucchini  cookbooks  leftovers  snack  \\\n",
      "0    ...        0.0      0.0   0.0       0.0        0.0        0.0    0.0   \n",
      "1    ...        0.0      0.0   0.0       0.0        0.0        0.0    0.0   \n",
      "2    ...        0.0      0.0   0.0       0.0        0.0        0.0    0.0   \n",
      "3    ...        0.0      0.0   0.0       0.0        0.0        0.0    0.0   \n",
      "4    ...        0.0      0.0   0.0       0.0        0.0        0.0    0.0   \n",
      "\n",
      "   snack week  turkey  good/bad  \n",
      "0         0.0     1.0         0  \n",
      "1         0.0     0.0         1  \n",
      "2         0.0     0.0         0  \n",
      "3         0.0     0.0         1  \n",
      "4         0.0     0.0         0  \n",
      "\n",
      "[5 rows x 681 columns]\n",
      "1    10738\n",
      "0     9314\n",
      "Name: good/bad, dtype: int64\n"
     ]
    }
   ],
   "source": [
    "def good_bad (rating):\n",
    "    if rating >= 4:\n",
    "        return 1\n",
    "    else:\n",
    "        return 0\n",
    "\n",
    "raw_data['good/bad'] = raw_data['rating'].apply(good_bad)\n",
    "\n",
    "print(raw_data.head())\n",
    "print(raw_data['good/bad'].value_counts())"
   ]
  },
  {
   "cell_type": "markdown",
   "metadata": {},
   "source": [
    "With ~10000 recipes classified as \"good\" and ~9000 recipes classified as \"bad\", we aren't dealing with significant class imbalance here. Let's try running an initial classifier."
   ]
  },
  {
   "cell_type": "code",
   "execution_count": 11,
   "metadata": {
    "collapsed": false
   },
   "outputs": [
    {
     "data": {
      "text/plain": [
       "\"svm = SVC(kernel = 'linear')\\nsvm.fit(X, Y)\\n\\nprint(svm.score(X,Y))\\nsvm_cv = cross_val_score(svm, X, Y, cv=5)\\nprint(svm_cv.mean())\""
      ]
     },
     "execution_count": 11,
     "metadata": {},
     "output_type": "execute_result"
    }
   ],
   "source": [
    "X = raw_data.drop(['rating', 'title', 'calories', 'protein', 'fat', 'sodium'], 1)\n",
    "Y = raw_data['good/bad']\n",
    "\n",
    "\"\"\"svm = SVC(kernel = 'linear')\n",
    "svm.fit(X, Y)\n",
    "\n",
    "print(svm.score(X,Y))\n",
    "svm_cv = cross_val_score(svm, X, Y, cv=5)\n",
    "print(svm_cv.mean())\"\"\""
   ]
  },
  {
   "cell_type": "markdown",
   "metadata": {},
   "source": [
    "This runs extremely slow for the entire dataset, so it isn't a good idea to run it for a preliminary idea. Let's cut 681 columns down to just a few to minimize run time for abbreviated experimental processing."
   ]
  },
  {
   "cell_type": "code",
   "execution_count": 12,
   "metadata": {
    "collapsed": false
   },
   "outputs": [
    {
     "name": "stdout",
     "output_type": "stream",
     "text": [
      "   appetizer  apple  bacon  basil  parsnip  party  lemon  quick and healthy  \\\n",
      "0        0.0    1.0    0.0    0.0      0.0    0.0    0.0                0.0   \n",
      "1        0.0    0.0    0.0    0.0      0.0    0.0    0.0                0.0   \n",
      "2        0.0    0.0    0.0    0.0      0.0    0.0    0.0                0.0   \n",
      "3        0.0    0.0    0.0    0.0      0.0    0.0    0.0                0.0   \n",
      "4        0.0    0.0    0.0    0.0      0.0    0.0    0.0                0.0   \n",
      "\n",
      "   simmer  thanksgiving  wine  leftovers  turkey  winter  pineapple  oyster  \\\n",
      "0     0.0           0.0   0.0        0.0     1.0     0.0        0.0     0.0   \n",
      "1     0.0           0.0   0.0        0.0     0.0     1.0        0.0     0.0   \n",
      "2     0.0           0.0   0.0        0.0     0.0     0.0        0.0     0.0   \n",
      "3     1.0           0.0   0.0        0.0     0.0     0.0        0.0     0.0   \n",
      "4     0.0           0.0   0.0        0.0     0.0     0.0        0.0     0.0   \n",
      "\n",
      "   paleo  vegetarian  vegan  good/bad  \n",
      "0    0.0         0.0    0.0         0  \n",
      "1    0.0         0.0    0.0         1  \n",
      "2    0.0         0.0    0.0         0  \n",
      "3    0.0         0.0    0.0         1  \n",
      "4    0.0         1.0    0.0         0  \n"
     ]
    }
   ],
   "source": [
    "new_columns = ['appetizer', 'apple', 'bacon', 'basil', 'parsnip', 'party', 'lemon', 'quick and healthy', 'simmer', \n",
    "    'thanksgiving', 'wine', 'leftovers', 'turkey', 'winter', 'pineapple', 'oyster', 'paleo', 'vegetarian', 'vegan',\n",
    "    'good/bad']\n",
    "new_data = raw_data[new_columns]\n",
    "print(new_data.head())"
   ]
  },
  {
   "cell_type": "markdown",
   "metadata": {},
   "source": [
    "Now, let's try and clean up the features: <br>\n",
    "- Make a correlation matrix and cut out features based on how strongly they are correlated to other features. <br>\n",
    "- Sort the features by how many other features they correlate strongly to. <br>\n",
    "-  Cut out the top half of strongly correlated features.<br><br>\n",
    "\n",
    "The following uses the small test dataset, then re-applies it to the full dataset."
   ]
  },
  {
   "cell_type": "code",
   "execution_count": 13,
   "metadata": {
    "collapsed": false
   },
   "outputs": [
    {
     "name": "stdout",
     "output_type": "stream",
     "text": [
      "Correlation Matrix sorted by count:\n",
      "quick and healthy     1\n",
      "basil                 2\n",
      "lemon                 2\n",
      "leftovers             3\n",
      "pineapple             3\n",
      "apple                 5\n",
      "paleo                 5\n",
      "oyster                5\n",
      "good/bad              6\n",
      "party                 6\n",
      "wine                  6\n",
      "turkey                6\n",
      "vegan                 7\n",
      "vegetarian            8\n",
      "parsnip               8\n",
      "winter                8\n",
      "appetizer             9\n",
      "bacon                 9\n",
      "simmer                9\n",
      "thanksgiving         12\n",
      "Name: count, dtype: int64\n",
      "['quick and healthy', 'basil', 'lemon', 'leftovers', 'pineapple']\n"
     ]
    },
    {
     "name": "stderr",
     "output_type": "stream",
     "text": [
      "/anaconda/lib/python3.6/site-packages/ipykernel/__main__.py:16: FutureWarning: sort(columns=....) is deprecated, use sort_values(by=.....)\n"
     ]
    }
   ],
   "source": [
    "corrmat = new_data.corr()\n",
    "                                                                                                                                                                                                                                                                                                                                                                                                                                                                                                                                                                                                                                                                                                                                                                                                                                     \n",
    "def count_high_corr(row):\n",
    "    count = 0\n",
    "    for index, value in row.iteritems():\n",
    "        if value > 0.01:\n",
    "            count += 1\n",
    "    return count\n",
    "\n",
    "corrmat['count'] = corrmat.apply(lambda row: count_high_corr(row), axis=1)\n",
    "\n",
    "# Apply this feature-counting function to every row in corrmat, store the feature in a new column 'count'\n",
    "# Note: you can't actually produce a new column by iterating through other columns in that row\n",
    "# because you're not directly accessing the row\n",
    "\n",
    "sorted_by_count = corrmat.sort(columns = 'count')\n",
    "print('Correlation Matrix sorted by count:')\n",
    "print(sorted_by_count['count'])\n",
    "\n",
    "best_features = sorted_by_count[:5].index.values.tolist()\n",
    "print(best_features)"
   ]
  },
  {
   "cell_type": "markdown",
   "metadata": {},
   "source": [
    "Now that code works, repeat for full dataset."
   ]
  },
  {
   "cell_type": "code",
   "execution_count": 14,
   "metadata": {
    "collapsed": false
   },
   "outputs": [
    {
     "name": "stdout",
     "output_type": "stream",
     "text": [
      "Correlation Matrix sorted by count:\n",
      "marinade               5\n",
      "burrito                6\n",
      "idaho                  6\n",
      "fritter                6\n",
      "caviar                 6\n",
      "mezcal                 6\n",
      "dorie greenspan        7\n",
      "camping                7\n",
      "beverly hills          7\n",
      "mississippi            8\n",
      "hummus                 8\n",
      "kitchen olympics       8\n",
      "frankenrecipe          8\n",
      "west virginia          8\n",
      "guam                   8\n",
      "cuba                   9\n",
      "suzanne goin           9\n",
      "england                9\n",
      "custard                9\n",
      "crêpe                  9\n",
      "egypt                  9\n",
      "quiche                 9\n",
      "london                 9\n",
      "costa mesa             9\n",
      "waffle                10\n",
      "nancy silverton       10\n",
      "tested & improved     10\n",
      "hollywood             10\n",
      "#wasteless            10\n",
      "iowa                  10\n",
      "                    ... \n",
      "fall                 155\n",
      "breakfast            155\n",
      "kid-friendly         155\n",
      "tomato               155\n",
      "fruit                157\n",
      "kidney friendly      158\n",
      "winter               159\n",
      "summer               160\n",
      "appetizer            163\n",
      "bake                 165\n",
      "christmas            166\n",
      "vegan                170\n",
      "high fiber           170\n",
      "dessert              177\n",
      "sugar conscious      182\n",
      "good/bad             192\n",
      "no sugar added       195\n",
      "lunch                200\n",
      "healthy              200\n",
      "tree nut free        203\n",
      "wheat/gluten-free    203\n",
      "rating               205\n",
      "bon appétit          206\n",
      "dairy free           208\n",
      "kosher               213\n",
      "vegetarian           214\n",
      "soy free             215\n",
      "peanut free          221\n",
      "pescatarian          222\n",
      "dinner               253\n",
      "Name: count, dtype: int64\n",
      "['marinade', 'burrito', 'idaho', 'fritter', 'caviar', 'mezcal', 'dorie greenspan', 'camping', 'beverly hills', 'mississippi', 'hummus', 'kitchen olympics', 'frankenrecipe', 'west virginia', 'guam', 'cuba', 'suzanne goin', 'england', 'custard', 'crêpe', 'egypt', 'quiche', 'london', 'costa mesa', 'waffle', 'nancy silverton', 'tested & improved', 'hollywood', '#wasteless', 'iowa']\n"
     ]
    },
    {
     "name": "stderr",
     "output_type": "stream",
     "text": [
      "/anaconda/lib/python3.6/site-packages/ipykernel/__main__.py:12: FutureWarning: sort(columns=....) is deprecated, use sort_values(by=.....)\n"
     ]
    }
   ],
   "source": [
    "corrmat = raw_data.corr()\n",
    "\n",
    "def count_high_corr(row):\n",
    "    count = 0\n",
    "    for index, value in row.iteritems():\n",
    "        if value > 0.01:\n",
    "            count += 1\n",
    "    return count\n",
    "\n",
    "corrmat['count'] = corrmat.apply(lambda row: count_high_corr(row), axis=1)\n",
    "\n",
    "sorted_by_count = corrmat.sort(columns = 'count')\n",
    "print('Correlation Matrix sorted by count:')\n",
    "print(sorted_by_count['count'])\n",
    "\n",
    "best_features = sorted_by_count[:30].index.values.tolist()\n",
    "print(best_features)  "
   ]
  },
  {
   "cell_type": "markdown",
   "metadata": {},
   "source": [
    "Now we have a list of the features with the most individual variance, but it turns out that some of them only have unique variance because they are such obscure features that are used very rarely. These likely would not have much predictive power, so let's try another method of feature reduction.<br>\n",
    "\n",
    "Let's look at the features that have the highest correlation with the outcome, good/bad. We will use the full dataset here."
   ]
  },
  {
   "cell_type": "code",
   "execution_count": 15,
   "metadata": {
    "collapsed": false
   },
   "outputs": [
    {
     "name": "stdout",
     "output_type": "stream",
     "text": [
      "good/bad             1.000000\n",
      "rating               0.655698\n",
      "bon appétit          0.097076\n",
      "roast                0.068198\n",
      "thanksgiving         0.067094\n",
      "peanut free          0.065897\n",
      "soy free             0.065799\n",
      "dinner               0.062186\n",
      "christmas            0.054409\n",
      "grill/barbecue       0.051204\n",
      "tree nut free        0.047943\n",
      "backyard bbq         0.047682\n",
      "fall                 0.046565\n",
      "grill                0.042924\n",
      "stuffing/dressing    0.042454\n",
      "goat cheese          0.041207\n",
      "father's day         0.036564\n",
      "dessert              0.036225\n",
      "meat                 0.035801\n",
      "fourth of july       0.033651\n",
      "low carb             0.033458\n",
      "turkey               0.033409\n",
      "pork tenderloin      0.033370\n",
      "cranberry            0.033333\n",
      "sausage              0.031639\n",
      "cake                 0.031405\n",
      "brisket              0.031385\n",
      "bake                 0.031329\n",
      "red wine             0.031070\n",
      "lamb                 0.030731\n",
      "                       ...   \n",
      "banana              -0.026496\n",
      "non-alcoholic       -0.026749\n",
      "zucchini            -0.026925\n",
      "bread               -0.027742\n",
      "low/no sugar        -0.028034\n",
      "vegetable           -0.028359\n",
      "cabbage             -0.028830\n",
      "chartreuse          -0.028846\n",
      "yogurt              -0.029818\n",
      "quick & easy        -0.031327\n",
      "radish              -0.031962\n",
      "gourmet             -0.032085\n",
      "scotch              -0.032564\n",
      "broccoli            -0.032573\n",
      "liqueur             -0.032672\n",
      "tofu                -0.034426\n",
      "stir-fry            -0.038336\n",
      "vegan               -0.039458\n",
      "rum                 -0.041792\n",
      "harpercollins       -0.042345\n",
      "pasta               -0.043092\n",
      "cocktail            -0.045829\n",
      "low fat             -0.049230\n",
      "bitters             -0.052951\n",
      "spirit              -0.057028\n",
      "cocktail party      -0.063534\n",
      "gin                 -0.071066\n",
      "alcoholic           -0.077158\n",
      "drink               -0.083065\n",
      "house & garden      -0.092801\n",
      "Name: good/bad, dtype: float64\n"
     ]
    }
   ],
   "source": [
    "good_bad_corr = raw_data.corr()['good/bad']\n",
    "good_bad_corr = good_bad_corr.sort_values(ascending = False)\n",
    "print(good_bad_corr)"
   ]
  },
  {
   "cell_type": "markdown",
   "metadata": {},
   "source": [
    "Pick the best 30 features and use these for the SVC model."
   ]
  },
  {
   "cell_type": "code",
   "execution_count": 16,
   "metadata": {
    "collapsed": false
   },
   "outputs": [
    {
     "name": "stdout",
     "output_type": "stream",
     "text": [
      "['bon appétit', 'roast', 'thanksgiving', 'peanut free', 'soy free', 'dinner', 'christmas', 'grill/barbecue', 'tree nut free', 'backyard bbq', 'fall', 'grill', 'stuffing/dressing', 'goat cheese', \"father's day\", 'dessert', 'meat', 'fourth of july', 'low carb', 'turkey', 'pork tenderloin', 'cranberry', 'sausage', 'cake', 'brisket', 'bake', 'red wine', 'lamb', 'high fiber', 'pescatarian']\n"
     ]
    }
   ],
   "source": [
    "best_rated_features = good_bad_corr[2:32].index.values.tolist()\n",
    "print(best_rated_features)"
   ]
  },
  {
   "cell_type": "code",
   "execution_count": 17,
   "metadata": {
    "collapsed": false
   },
   "outputs": [
    {
     "name": "stdout",
     "output_type": "stream",
     "text": [
      "0.568920805905\n"
     ]
    }
   ],
   "source": [
    "X = raw_data[best_rated_features]\n",
    "Y = raw_data['good/bad']\n",
    "svm = SVC(kernel = 'linear')\n",
    "svm.fit(X, Y)\n",
    "\n",
    "print(svm.score(X,Y))"
   ]
  },
  {
   "cell_type": "code",
   "execution_count": 18,
   "metadata": {
    "collapsed": false
   },
   "outputs": [
    {
     "name": "stdout",
     "output_type": "stream",
     "text": [
      "[ 0.56569434  0.56918474  0.56394914  0.5713217   0.56223497]\n",
      "0.566476977893\n"
     ]
    }
   ],
   "source": [
    "svm_cv = cross_val_score(svm, X, Y, cv=5)\n",
    "print(svm_cv)\n",
    "print(svm_cv.mean())"
   ]
  },
  {
   "cell_type": "markdown",
   "metadata": {},
   "source": [
    "The score is **0.569**. This is not very good, but is at least better than the regressor which was a very poor 0.285. The model is not overfitting, as evidenced by the comparable cross-validation score."
   ]
  },
  {
   "cell_type": "markdown",
   "metadata": {},
   "source": [
    "Now to see if we can get a better model by including nutrition information. <br>\n",
    "Drop observations with missing data."
   ]
  },
  {
   "cell_type": "code",
   "execution_count": 19,
   "metadata": {
    "collapsed": false
   },
   "outputs": [
    {
     "name": "stdout",
     "output_type": "stream",
     "text": [
      "                       calories   protein       fat    sodium  good/bad  \\\n",
      "rating                 0.007855  0.013971  0.007235  0.008146  0.653233   \n",
      "calories               1.000000  0.742816  0.996538  0.996392  0.012569   \n",
      "protein                0.742816  1.000000  0.712194  0.749287  0.015482   \n",
      "fat                    0.996538  0.712194  1.000000  0.986476  0.012017   \n",
      "sodium                 0.996392  0.749287  0.986476  1.000000  0.012684   \n",
      "#cakeweek             -0.000210 -0.000324 -0.000215 -0.000274 -0.008299   \n",
      "#wasteless            -0.000136 -0.000201 -0.000132 -0.000144  0.007243   \n",
      "22-minute meals       -0.000473 -0.000466 -0.000454 -0.000446  0.019828   \n",
      "3-ingredient recipes  -0.000585 -0.000758 -0.000560 -0.000597 -0.024673   \n",
      "30 days of groceries  -0.000308 -0.000258 -0.000290 -0.000309  0.001083   \n",
      "advance prep required -0.001083 -0.001244 -0.001033 -0.001090 -0.016538   \n",
      "alabama               -0.000132 -0.000195 -0.000128 -0.000140  0.007243   \n",
      "alaska                -0.000178 -0.000188 -0.000173 -0.000164 -0.012308   \n",
      "alcoholic             -0.003346 -0.005073 -0.003316 -0.003582 -0.066905   \n",
      "almond                 0.000574  0.001528  0.000612  0.000667  0.022737   \n",
      "amaretto              -0.000742 -0.001104 -0.000716 -0.000827  0.007155   \n",
      "anchovy               -0.000677 -0.000911 -0.000634 -0.000716  0.000812   \n",
      "anise                 -0.001254 -0.001644 -0.001217 -0.001297 -0.010314   \n",
      "anniversary           -0.001181 -0.001344 -0.001123 -0.001265  0.008476   \n",
      "anthony bourdain      -0.000175 -0.000122 -0.000165 -0.000190 -0.012308   \n",
      "aperitif              -0.000297 -0.000461 -0.000301 -0.000332 -0.019463   \n",
      "appetizer             -0.004423 -0.005876 -0.004207 -0.004251  0.009477   \n",
      "apple                  0.000206  0.001146  0.000220  0.000364  0.004631   \n",
      "apple juice           -0.000294 -0.000411 -0.000287 -0.000327  0.001934   \n",
      "apricot                0.017579  0.009614  0.017754  0.017185  0.018150   \n",
      "arizona               -0.000356 -0.000392 -0.000341 -0.000381  0.003575   \n",
      "artichoke             -0.001410 -0.001590 -0.001334 -0.001419 -0.018950   \n",
      "arugula               -0.001835 -0.002269 -0.001741 -0.001660  0.024335   \n",
      "asian pear            -0.000498 -0.000686 -0.000480 -0.000403 -0.002732   \n",
      "asparagus             -0.001615 -0.001859 -0.001535 -0.001690  0.004240   \n",
      "...                         ...       ...       ...       ...       ...   \n",
      "wasabi                -0.000538 -0.000686 -0.000507 -0.000543  0.006663   \n",
      "washington            -0.000612 -0.000821 -0.000549 -0.000676 -0.002056   \n",
      "washington, d.c.      -0.000367 -0.000450 -0.000350 -0.000391  0.003575   \n",
      "watercress            -0.001360 -0.001683 -0.001269 -0.001426  0.001474   \n",
      "watermelon            -0.000935 -0.001359 -0.000917 -0.001005  0.015682   \n",
      "wedding               -0.001193 -0.001764 -0.001155 -0.001317  0.007995   \n",
      "weelicious            -0.000741 -0.001016 -0.000716 -0.000749 -0.027313   \n",
      "west virginia         -0.000134 -0.000199 -0.000131 -0.000146  0.007243   \n",
      "westwood              -0.000120 -0.000125 -0.000130 -0.000109  0.007243   \n",
      "wheat/gluten-free     -0.000719  0.009050 -0.000471 -0.001711 -0.002359   \n",
      "whiskey               -0.000869 -0.001233 -0.000856 -0.000945 -0.003712   \n",
      "white wine            -0.002607 -0.002303 -0.002505 -0.002494  0.012926   \n",
      "whole wheat           -0.000649 -0.000927 -0.000632 -0.000676 -0.013350   \n",
      "wild rice             -0.000435 -0.000468 -0.000425 -0.000451 -0.016344   \n",
      "windsor               -0.000078  0.000596 -0.000106  0.000255  0.007243   \n",
      "wine                  -0.001584 -0.001958 -0.001526 -0.001665  0.008026   \n",
      "winter                 0.011178  0.021620  0.011342  0.010215  0.013166   \n",
      "wisconsin             -0.000263 -0.000308 -0.000256 -0.000265 -0.001460   \n",
      "wok                   -0.001222 -0.001437 -0.001172 -0.001184 -0.015388   \n",
      "yellow squash         -0.000599 -0.000860 -0.000578 -0.000622 -0.010401   \n",
      "yogurt                -0.002496 -0.003120 -0.002388 -0.002618 -0.018641   \n",
      "yonkers               -0.000135 -0.000197 -0.000132 -0.000138  0.007243   \n",
      "yuca                  -0.000292 -0.000354 -0.000289 -0.000302  0.009067   \n",
      "zucchini              -0.001979 -0.002566 -0.001894 -0.002032 -0.024408   \n",
      "cookbooks             -0.000181 -0.000232 -0.000175 -0.000173 -0.001032   \n",
      "leftovers             -0.000285 -0.000290 -0.000278 -0.000287 -0.019463   \n",
      "snack                 -0.000619 -0.000883 -0.000594 -0.000638 -0.015533   \n",
      "snack week            -0.000486 -0.000702 -0.000464 -0.000508 -0.004844   \n",
      "turkey                -0.002267 -0.000748 -0.002215 -0.001867  0.039578   \n",
      "good/bad               0.012569  0.015482  0.012017  0.012684  1.000000   \n",
      "\n",
      "                         rating  \n",
      "rating                 1.000000  \n",
      "calories               0.007855  \n",
      "protein                0.013971  \n",
      "fat                    0.007235  \n",
      "sodium                 0.008146  \n",
      "#cakeweek              0.002987  \n",
      "#wasteless             0.007653  \n",
      "22-minute meals        0.017687  \n",
      "3-ingredient recipes  -0.051262  \n",
      "30 days of groceries   0.007118  \n",
      "advance prep required -0.025939  \n",
      "alabama                0.007653  \n",
      "alaska                -0.000096  \n",
      "alcoholic             -0.209148  \n",
      "almond                 0.005499  \n",
      "amaretto               0.013279  \n",
      "anchovy               -0.018940  \n",
      "anise                 -0.002684  \n",
      "anniversary            0.010505  \n",
      "anthony bourdain      -0.021934  \n",
      "aperitif              -0.022597  \n",
      "appetizer              0.023534  \n",
      "apple                  0.003790  \n",
      "apple juice           -0.003604  \n",
      "apricot                0.009421  \n",
      "arizona                0.007999  \n",
      "artichoke             -0.004597  \n",
      "arugula                0.020244  \n",
      "asian pear             0.001811  \n",
      "asparagus              0.012152  \n",
      "...                         ...  \n",
      "wasabi                 0.009088  \n",
      "washington             0.008161  \n",
      "washington, d.c.       0.006634  \n",
      "watercress             0.001504  \n",
      "watermelon             0.012365  \n",
      "wedding               -0.001045  \n",
      "weelicious            -0.063155  \n",
      "west virginia          0.003793  \n",
      "westwood               0.003793  \n",
      "wheat/gluten-free      0.014778  \n",
      "whiskey               -0.036759  \n",
      "white wine             0.027213  \n",
      "whole wheat           -0.003486  \n",
      "wild rice             -0.000234  \n",
      "windsor                0.003793  \n",
      "wine                  -0.004633  \n",
      "winter                 0.058439  \n",
      "wisconsin              0.001795  \n",
      "wok                    0.000602  \n",
      "yellow squash         -0.001166  \n",
      "yogurt                -0.013485  \n",
      "yonkers                0.007653  \n",
      "yuca                   0.008482  \n",
      "zucchini               0.001311  \n",
      "cookbooks              0.002634  \n",
      "leftovers             -0.051949  \n",
      "snack                 -0.050885  \n",
      "snack week            -0.015239  \n",
      "turkey                 0.022338  \n",
      "good/bad               0.653233  \n",
      "\n",
      "[680 rows x 6 columns]\n"
     ]
    }
   ],
   "source": [
    "nutrition = raw_data.dropna()\n",
    "nutrition_corr = nutrition.corr()[['calories', 'protein', 'fat', 'sodium', 'good/bad', 'rating']]\n",
    "print(nutrition_corr)"
   ]
  },
  {
   "cell_type": "markdown",
   "metadata": {},
   "source": [
    "Add the nutritional features to the \"best features\" list (features were ranked by their correlation to the outcome.)<br>\n",
    "Train the model."
   ]
  },
  {
   "cell_type": "code",
   "execution_count": 20,
   "metadata": {
    "collapsed": false
   },
   "outputs": [
    {
     "data": {
      "text/plain": [
       "\"X = nutrition[best_rated_features + ['calories', 'protein', 'fat', 'sodium']]\\nY = nutrition['good/bad']\\nsvm = SVC(kernel = 'linear')\\nsvm.fit(X, Y)\\n\\nprint(svm.score(X,Y))\\nsvm_cv = cross_val_score(svm, X, Y, cv=5)\\nprint(svm_cv.mean())\""
      ]
     },
     "execution_count": 20,
     "metadata": {},
     "output_type": "execute_result"
    }
   ],
   "source": [
    "\"\"\"X = nutrition[best_rated_features + ['calories', 'protein', 'fat', 'sodium']]\n",
    "Y = nutrition['good/bad']\n",
    "svm = SVC(kernel = 'linear')\n",
    "svm.fit(X, Y)\n",
    "\n",
    "print(svm.score(X,Y))\n",
    "svm_cv = cross_val_score(svm, X, Y, cv=5)\n",
    "print(svm_cv.mean())\"\"\""
   ]
  },
  {
   "cell_type": "markdown",
   "metadata": {},
   "source": [
    "Model is too computationally expensive to train with SVC. LinearSVC tends to be faster to converge the larger the number of samples is, so we will try LinearSVC. Alternatively, if this still doesn't converge, we could try training with less data."
   ]
  },
  {
   "cell_type": "code",
   "execution_count": 26,
   "metadata": {
    "collapsed": false
   },
   "outputs": [
    {
     "name": "stdout",
     "output_type": "stream",
     "text": [
      "\n",
      "C: 0.0001\n",
      "0.569402420575\n",
      "\n",
      "C: 0.001\n",
      "0.571482602118\n",
      "\n",
      "C: 0.1\n",
      "0.560199193142\n",
      "\n",
      "C: 1\n",
      "0.455937972769\n",
      "\n",
      "C: 10\n",
      "0.547844175492\n"
     ]
    }
   ],
   "source": [
    "X = nutrition[best_rated_features + ['calories', 'protein', 'fat', 'sodium']]\n",
    "Y = nutrition['good/bad']\n",
    "c_values = [0.0001, 0.001, 0.1, 1, 10]\n",
    "for c in c_values:\n",
    "    svm = LinearSVC(C = c, random_state=1)\n",
    "    svm.fit(X, Y)\n",
    "    print(f'\\nC: {c}')\n",
    "    print(svm.score(X,Y))"
   ]
  },
  {
   "cell_type": "markdown",
   "metadata": {},
   "source": [
    "When C = 0.001, the model performs the best. However, an accuracy score of **0.57** is not particularly good, and varying the C parameter does not have a huge impact on the score. Adding in the nutrition features did not significantly improve the score from before, which was also about 0.57. <br>\n",
    "\n",
    "Let's try one more method of feature selection, SelectKBest."
   ]
  },
  {
   "cell_type": "code",
   "execution_count": 39,
   "metadata": {
    "collapsed": false
   },
   "outputs": [
    {
     "name": "stdout",
     "output_type": "stream",
     "text": [
      "\n",
      "C: 0.0001\n",
      "0.568621583882\n",
      "\n",
      "C: 0.001\n",
      "0.578944743666\n",
      "\n",
      "C: 0.1\n",
      "0.586824256932\n",
      "\n",
      "C: 1\n",
      "0.586874127269\n",
      "\n",
      "C: 10\n",
      "0.586874127269\n"
     ]
    }
   ],
   "source": [
    "from sklearn.feature_selection import SelectKBest\n",
    "\n",
    "X = raw_data.drop(['rating', 'title', 'calories', 'protein', 'fat', 'sodium', 'good/bad'], 1)\n",
    "Y = raw_data['good/bad']\n",
    "\n",
    "X_k30 = SelectKBest(k=30).fit_transform(X,Y)\n",
    "\n",
    "for c in c_values:\n",
    "    svm = LinearSVC(C = c, random_state=1)\n",
    "    svm.fit(X_k30, Y)\n",
    "    print(f'\\nC: {c}')\n",
    "    print(svm.score(X_k30,Y))"
   ]
  },
  {
   "cell_type": "markdown",
   "metadata": {
    "collapsed": true
   },
   "source": [
    "By using LinearSVC with the 30 best features as determined by SelectKBest, we see a very minor improvement in the score from 0.571 to **0.587.** SelectKBest is a powerful tool that uses the F statistic to eliminate less impactful features. In this case, using SelectKBest over manually picking features that correlated highly with the outcome resulted in a very small increase in performance. <br>\n",
    "\n",
    "In the future, I would try including more features with the SelectKBest method of feature reduction, and running the model on a machine that can handle the full SVC object and not just the LinearSVC modification. Even still, it is possible that the buzzwords in a recipe title may not have predictive power for the recipe rating. Two recipes could both use \"tomato\", but one could be horrible and one could be great. It also depends on the proficiency of the reader in following recipes, which is another confounding factor that is not accounted for in these features."
   ]
  }
 ],
 "metadata": {
  "kernelspec": {
   "display_name": "Python 3",
   "language": "python",
   "name": "python3"
  },
  "language_info": {
   "codemirror_mode": {
    "name": "ipython",
    "version": 3
   },
   "file_extension": ".py",
   "mimetype": "text/x-python",
   "name": "python",
   "nbconvert_exporter": "python",
   "pygments_lexer": "ipython3",
   "version": "3.6.0"
  }
 },
 "nbformat": 4,
 "nbformat_minor": 2
}
